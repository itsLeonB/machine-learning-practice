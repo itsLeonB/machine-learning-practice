{
  "cells": [
    {
      "cell_type": "markdown",
      "metadata": {
        "id": "L6S2HVAkSt0p"
      },
      "source": [
        "# Week 2 Assignment: CIFAR-10 Autoencoder\n",
        "\n",
        "For this week, you will create a convolutional autoencoder for the [CIFAR10](https://www.tensorflow.org/datasets/catalog/cifar10) dataset. You are free to choose the architecture of your autoencoder provided that the output image has the same dimensions as the input image.\n",
        "\n",
        "After training, your model should meet loss and accuracy requirements when evaluated with the test dataset. You will then download the model and upload it in the classroom for grading.\n",
        "\n",
        "Let's begin!"
      ]
    },
    {
      "cell_type": "markdown",
      "metadata": {
        "id": "6r4iPr2jyisR"
      },
      "source": [
        "***Important:*** *This colab notebook has read-only access so you won't be able to save your changes. If you want to save your work periodically, please click `File -> Save a Copy in Drive` to create a copy in your account, then work from there.*  "
      ]
    },
    {
      "cell_type": "markdown",
      "metadata": {
        "id": "g1mzy2J8_nc1"
      },
      "source": [
        "## Imports"
      ]
    },
    {
      "cell_type": "code",
      "execution_count": 9,
      "metadata": {
        "id": "wPuX3RKxl8l5"
      },
      "outputs": [],
      "source": [
        "# # Install packages for compatibility with the autograder\n",
        "!pip install tensorflow==2.8.0 --quiet\n",
        "!pip install keras==2.8.0 --quiet"
      ]
    },
    {
      "cell_type": "code",
      "execution_count": 10,
      "metadata": {
        "id": "3EXwoz-KHtWO",
        "colab": {
          "base_uri": "https://localhost:8080/"
        },
        "outputId": "c9074c06-df3d-4eec-e817-a585341e35b6"
      },
      "outputs": [
        {
          "output_type": "stream",
          "name": "stdout",
          "text": [
            "Colab only includes TensorFlow 2.x; %tensorflow_version has no effect.\n"
          ]
        }
      ],
      "source": [
        "try:\n",
        "  # %tensorflow_version only exists in Colab.\n",
        "  %tensorflow_version 2.x\n",
        "except Exception:\n",
        "  pass\n",
        "\n",
        "import tensorflow as tf\n",
        "import tensorflow_datasets as tfds\n",
        "\n",
        "from keras.models import Sequential"
      ]
    },
    {
      "cell_type": "markdown",
      "metadata": {
        "id": "n2Gs6Lyc_pd0"
      },
      "source": [
        "## Load and prepare the dataset\n",
        "\n",
        "The [CIFAR 10](https://www.tensorflow.org/datasets/catalog/cifar10) dataset already has train and test splits and you can use those in this exercise. Here are the general steps:\n",
        "\n",
        "* Load the train/test split from TFDS. Set `as_supervised` to `True` so it will be convenient to use the preprocessing function we provided.\n",
        "* Normalize the pixel values to the range [0,1], then return `image, image` pairs for training instead of `image, label`. This is because you will check if the output image is successfully regenerated after going through your autoencoder.\n",
        "* Shuffle and batch the train set. Batch the test set (no need to shuffle).\n"
      ]
    },
    {
      "cell_type": "code",
      "execution_count": 11,
      "metadata": {
        "id": "t9F7YsCNIKSA"
      },
      "outputs": [],
      "source": [
        "# preprocessing function\n",
        "def map_image(image, label):\n",
        "  image = tf.cast(image, dtype=tf.float32)\n",
        "  image = image / 255.0\n",
        "\n",
        "  return image, image # dataset label is not used. replaced with the same image input.\n",
        "\n",
        "# parameters\n",
        "BATCH_SIZE = 128\n",
        "SHUFFLE_BUFFER_SIZE = 1024\n",
        "\n",
        "\n",
        "### START CODE HERE (Replace instances of `None` with your code) ###\n",
        "\n",
        "# use tfds.load() to fetch the 'train' split of CIFAR-10\n",
        "train_dataset = tfds.load('cifar10', as_supervised=True, split='train')\n",
        "\n",
        "# preprocess the dataset with the `map_image()` function above\n",
        "train_dataset = train_dataset.map(map_image)\n",
        "\n",
        "# shuffle and batch the dataset\n",
        "train_dataset = train_dataset.shuffle(SHUFFLE_BUFFER_SIZE).batch(BATCH_SIZE)\n",
        "\n",
        "\n",
        "# use tfds.load() to fetch the 'test' split of CIFAR-10\n",
        "test_dataset = tfds.load('cifar10', as_supervised=True, split='test')\n",
        "\n",
        "# preprocess the dataset with the `map_image()` function above\n",
        "test_dataset = test_dataset.map(map_image)\n",
        "\n",
        "# batch the dataset\n",
        "test_dataset = test_dataset.batch(BATCH_SIZE)\n",
        "\n",
        "### END CODE HERE ###"
      ]
    },
    {
      "cell_type": "markdown",
      "metadata": {
        "id": "rPyOgGJs_t98"
      },
      "source": [
        "## Build the Model\n",
        "\n",
        "Create the autoencoder model. As shown in the lectures, you will want to downsample the image in the encoder layers then upsample it in the decoder path. Note that the output layer should be the same dimensions as the original image. Your input images will have the shape `(32, 32, 3)`. If you deviate from this, your model may not be recognized by the grader and may fail.\n",
        "\n",
        "We included a few hints to use the Sequential API below but feel free to remove it and use the Functional API just like in the ungraded labs if you're more comfortable with it. Another reason to use the latter is if you want to visualize the encoder output. As shown in the ungraded labs, it will be easier to indicate multiple outputs with the Functional API. That is not required for this assignment though so you can just stack layers sequentially if you want a simpler solution."
      ]
    },
    {
      "cell_type": "code",
      "execution_count": 18,
      "metadata": {
        "id": "Wr-Bok3lRgA3",
        "colab": {
          "base_uri": "https://localhost:8080/"
        },
        "outputId": "d08989b4-c5d3-43fc-dfb3-357397b64b66"
      },
      "outputs": [
        {
          "output_type": "stream",
          "name": "stdout",
          "text": [
            "Model: \"model_3\"\n",
            "_________________________________________________________________\n",
            " Layer (type)                Output Shape              Param #   \n",
            "=================================================================\n",
            " input_4 (InputLayer)        [(None, 32, 32, 3)]       0         \n",
            "                                                                 \n",
            " conv2d_20 (Conv2D)          (None, 32, 32, 64)        1792      \n",
            "                                                                 \n",
            " max_pooling2d_7 (MaxPooling  (None, 16, 16, 64)       0         \n",
            " 2D)                                                             \n",
            "                                                                 \n",
            " conv2d_21 (Conv2D)          (None, 16, 16, 128)       73856     \n",
            "                                                                 \n",
            " max_pooling2d_8 (MaxPooling  (None, 8, 8, 128)        0         \n",
            " 2D)                                                             \n",
            "                                                                 \n",
            " conv2d_22 (Conv2D)          (None, 8, 8, 256)         295168    \n",
            "                                                                 \n",
            " conv2d_23 (Conv2D)          (None, 8, 8, 128)         295040    \n",
            "                                                                 \n",
            " up_sampling2d_7 (UpSampling  (None, 16, 16, 128)      0         \n",
            " 2D)                                                             \n",
            "                                                                 \n",
            " conv2d_24 (Conv2D)          (None, 16, 16, 64)        73792     \n",
            "                                                                 \n",
            " up_sampling2d_8 (UpSampling  (None, 32, 32, 64)       0         \n",
            " 2D)                                                             \n",
            "                                                                 \n",
            " conv2d_25 (Conv2D)          (None, 32, 32, 3)         1731      \n",
            "                                                                 \n",
            "=================================================================\n",
            "Total params: 741,379\n",
            "Trainable params: 741,379\n",
            "Non-trainable params: 0\n",
            "_________________________________________________________________\n"
          ]
        }
      ],
      "source": [
        "# suggested layers to use. feel free to add or remove as you see fit.\n",
        "from keras.layers import Input, Conv2D, MaxPooling2D, UpSampling2D\n",
        "\n",
        "# use the Sequential API (you can remove if you want to use the Functional API)\n",
        "# model = Sequential()\n",
        "\n",
        "### START CODE HERE ###\n",
        "# use `model.add()` to add layers (if using the Sequential API)\n",
        "inputs = tf.keras.layers.Input(shape=(32, 32, 3))\n",
        "encoder = Conv2D(filters=64, kernel_size=(3,3), activation='relu', padding='same')(inputs)\n",
        "encoder = MaxPooling2D(pool_size=(2,2))(encoder)\n",
        "encoder = Conv2D(filters=128, kernel_size=(3,3), activation='relu', padding='same')(encoder)\n",
        "encoder = MaxPooling2D(pool_size=(2,2))(encoder)\n",
        "\n",
        "bottleneck = Conv2D(filters=256, kernel_size=(3,3), activation='relu', padding='same')(encoder)\n",
        "\n",
        "decoder = Conv2D(filters=128, kernel_size=(3,3), activation='relu', padding='same')(bottleneck)\n",
        "decoder = UpSampling2D(size=(2,2))(decoder)\n",
        "decoder = Conv2D(filters=64, kernel_size=(3,3), activation='relu', padding='same')(decoder)\n",
        "decoder = UpSampling2D(size=(2,2))(decoder)\n",
        "\n",
        "outputs = Conv2D(filters=3, kernel_size=(3,3), activation='sigmoid', padding='same')(decoder)\n",
        "\n",
        "model = tf.keras.models.Model(inputs, outputs)\n",
        "### END CODE HERE ###\n",
        "\n",
        "model.summary()"
      ]
    },
    {
      "cell_type": "markdown",
      "metadata": {
        "id": "jRWTAijKEVUC"
      },
      "source": [
        "## Configure training parameters\n",
        "\n",
        "We have already provided the optimizer, metrics, and loss in the code below."
      ]
    },
    {
      "cell_type": "code",
      "execution_count": 19,
      "metadata": {
        "id": "iHIeD9eDETSk"
      },
      "outputs": [],
      "source": [
        "# Please do not change the model.compile() parameters\n",
        "model.compile(optimizer='adam', metrics=['accuracy'], loss='mean_squared_error')"
      ]
    },
    {
      "cell_type": "markdown",
      "metadata": {
        "id": "tLQPhm1W_8dC"
      },
      "source": [
        "## Training\n",
        "\n",
        "You can now use [model.fit()](https://keras.io/api/models/model_training_apis/#fit-method) to train your model. You will pass in the `train_dataset` and you are free to configure the other parameters. As with any training, you should see the loss generally going down and the accuracy going up with each epoch. If not, please revisit the previous sections to find possible bugs.\n",
        "\n",
        "*Note: If you get a `dataset length is infinite` error. Please check how you defined `train_dataset`. You might have included a [method that repeats the dataset indefinitely](https://www.tensorflow.org/api_docs/python/tf/data/Dataset#repeat).*"
      ]
    },
    {
      "cell_type": "code",
      "execution_count": 20,
      "metadata": {
        "id": "AMBimOnsRvg0",
        "colab": {
          "base_uri": "https://localhost:8080/"
        },
        "outputId": "1a4895ec-040b-4b70-b457-f0e1f48972a4"
      },
      "outputs": [
        {
          "output_type": "stream",
          "name": "stdout",
          "text": [
            "Epoch 1/40\n",
            "3/3 [==============================] - 1s 67ms/step - loss: 0.0647 - accuracy: 0.4962\n",
            "Epoch 2/40\n",
            "3/3 [==============================] - 0s 54ms/step - loss: 0.0588 - accuracy: 0.4774\n",
            "Epoch 3/40\n",
            "3/3 [==============================] - 0s 49ms/step - loss: 0.0512 - accuracy: 0.4818\n",
            "Epoch 4/40\n",
            "3/3 [==============================] - 0s 53ms/step - loss: 0.0450 - accuracy: 0.4981\n",
            "Epoch 5/40\n",
            "3/3 [==============================] - 0s 60ms/step - loss: 0.0367 - accuracy: 0.5155\n",
            "Epoch 6/40\n",
            "3/3 [==============================] - 0s 50ms/step - loss: 0.0336 - accuracy: 0.5242\n",
            "Epoch 7/40\n",
            "3/3 [==============================] - 0s 48ms/step - loss: 0.0263 - accuracy: 0.5664\n",
            "Epoch 8/40\n",
            "3/3 [==============================] - 0s 54ms/step - loss: 0.0272 - accuracy: 0.5691\n",
            "Epoch 9/40\n",
            "3/3 [==============================] - 0s 56ms/step - loss: 0.0243 - accuracy: 0.5861\n",
            "Epoch 10/40\n",
            "3/3 [==============================] - 0s 48ms/step - loss: 0.0204 - accuracy: 0.6039\n",
            "Epoch 11/40\n",
            "3/3 [==============================] - 0s 53ms/step - loss: 0.0181 - accuracy: 0.6158\n",
            "Epoch 12/40\n",
            "3/3 [==============================] - 0s 53ms/step - loss: 0.0167 - accuracy: 0.5875\n",
            "Epoch 13/40\n",
            "3/3 [==============================] - 0s 52ms/step - loss: 0.0164 - accuracy: 0.5820\n",
            "Epoch 14/40\n",
            "3/3 [==============================] - 0s 50ms/step - loss: 0.0153 - accuracy: 0.6351\n",
            "Epoch 15/40\n",
            "3/3 [==============================] - 0s 53ms/step - loss: 0.0150 - accuracy: 0.6282\n",
            "Epoch 16/40\n",
            "3/3 [==============================] - 0s 51ms/step - loss: 0.0154 - accuracy: 0.6287\n",
            "Epoch 17/40\n",
            "3/3 [==============================] - 0s 59ms/step - loss: 0.0142 - accuracy: 0.6156\n",
            "Epoch 18/40\n",
            "3/3 [==============================] - 0s 57ms/step - loss: 0.0135 - accuracy: 0.6572\n",
            "Epoch 19/40\n",
            "3/3 [==============================] - 0s 52ms/step - loss: 0.0127 - accuracy: 0.6654\n",
            "Epoch 20/40\n",
            "3/3 [==============================] - 0s 51ms/step - loss: 0.0127 - accuracy: 0.6215\n",
            "Epoch 21/40\n",
            "3/3 [==============================] - 0s 54ms/step - loss: 0.0113 - accuracy: 0.6294\n",
            "Epoch 22/40\n",
            "3/3 [==============================] - 0s 82ms/step - loss: 0.0113 - accuracy: 0.6660\n",
            "Epoch 23/40\n",
            "3/3 [==============================] - 0s 75ms/step - loss: 0.0112 - accuracy: 0.6415\n",
            "Epoch 24/40\n",
            "3/3 [==============================] - 0s 74ms/step - loss: 0.0106 - accuracy: 0.6678\n",
            "Epoch 25/40\n",
            "3/3 [==============================] - 0s 78ms/step - loss: 0.0102 - accuracy: 0.7022\n",
            "Epoch 26/40\n",
            "3/3 [==============================] - 0s 74ms/step - loss: 0.0105 - accuracy: 0.6848\n",
            "Epoch 27/40\n",
            "3/3 [==============================] - 0s 79ms/step - loss: 0.0101 - accuracy: 0.6988\n",
            "Epoch 28/40\n",
            "3/3 [==============================] - 0s 73ms/step - loss: 0.0097 - accuracy: 0.7269\n",
            "Epoch 29/40\n",
            "3/3 [==============================] - 0s 78ms/step - loss: 0.0091 - accuracy: 0.7345\n",
            "Epoch 30/40\n",
            "3/3 [==============================] - 0s 72ms/step - loss: 0.0095 - accuracy: 0.7276\n",
            "Epoch 31/40\n",
            "3/3 [==============================] - 0s 83ms/step - loss: 0.0090 - accuracy: 0.7245\n",
            "Epoch 32/40\n",
            "3/3 [==============================] - 0s 78ms/step - loss: 0.0090 - accuracy: 0.7341\n",
            "Epoch 33/40\n",
            "3/3 [==============================] - 0s 77ms/step - loss: 0.0083 - accuracy: 0.7271\n",
            "Epoch 34/40\n",
            "3/3 [==============================] - 0s 84ms/step - loss: 0.0083 - accuracy: 0.7602\n",
            "Epoch 35/40\n",
            "3/3 [==============================] - 0s 77ms/step - loss: 0.0082 - accuracy: 0.7441\n",
            "Epoch 36/40\n",
            "3/3 [==============================] - 0s 87ms/step - loss: 0.0077 - accuracy: 0.7536\n",
            "Epoch 37/40\n",
            "3/3 [==============================] - 0s 78ms/step - loss: 0.0077 - accuracy: 0.7511\n",
            "Epoch 38/40\n",
            "3/3 [==============================] - 0s 89ms/step - loss: 0.0078 - accuracy: 0.7449\n",
            "Epoch 39/40\n",
            "3/3 [==============================] - 0s 89ms/step - loss: 0.0076 - accuracy: 0.7460\n",
            "Epoch 40/40\n",
            "3/3 [==============================] - 0s 86ms/step - loss: 0.0076 - accuracy: 0.7414\n"
          ]
        },
        {
          "output_type": "execute_result",
          "data": {
            "text/plain": [
              "<keras.callbacks.History at 0x7c9fa02056c0>"
            ]
          },
          "metadata": {},
          "execution_count": 20
        }
      ],
      "source": [
        "# parameters (feel free to change this)\n",
        "train_steps = len(train_dataset) // BATCH_SIZE\n",
        "val_steps = len(test_dataset) // BATCH_SIZE\n",
        "\n",
        "### START CODE HERE ###\n",
        "model.fit(train_dataset, steps_per_epoch=train_steps,\n",
        "          validation_data=test_dataset, validation_steps=val_steps,\n",
        "          epochs=40)\n",
        "### END CODE HERE ###"
      ]
    },
    {
      "cell_type": "markdown",
      "metadata": {
        "id": "PT2l1c-SAaF4"
      },
      "source": [
        "## Model evaluation\n",
        "\n",
        "You can use this code to test your model locally before uploading to the grader. To pass, your model needs to satisfy these two requirements:\n",
        "\n",
        "* loss must be less than 0.01\n",
        "* accuracy must be greater than 0.6"
      ]
    },
    {
      "cell_type": "code",
      "execution_count": 21,
      "metadata": {
        "id": "vFncgqahSQhA",
        "colab": {
          "base_uri": "https://localhost:8080/"
        },
        "outputId": "5d08cd6c-d84a-444d-c5b0-14347fcbb998"
      },
      "outputs": [
        {
          "output_type": "stream",
          "name": "stdout",
          "text": [
            "10/10 [==============================] - 1s 32ms/step - loss: 0.0071 - accuracy: 0.7507\n"
          ]
        }
      ],
      "source": [
        "result = model.evaluate(test_dataset, steps=10)"
      ]
    },
    {
      "cell_type": "markdown",
      "metadata": {
        "id": "di6VOHGwIsVM"
      },
      "source": [
        "If you did some visualization like in the ungraded labs, then you might see something like the gallery below. This part is not required."
      ]
    },
    {
      "cell_type": "markdown",
      "metadata": {
        "id": "wmpI4skkIA5L"
      },
      "source": [
        "<img src=\"https://drive.google.com/uc?export=view&id=12Fy-guiP-3tTPfc9IV2nHhqLvs7LwRo6\" width=\"75%\" height=\"75%\"/>"
      ]
    },
    {
      "cell_type": "markdown",
      "metadata": {
        "id": "uaRSkQPNAPT0"
      },
      "source": [
        "## Save your model\n",
        "\n",
        "Once you are satisfied with the results, you can now save your model. Please download it from the Files window on the left and go back to the Submission portal in Coursera for grading."
      ]
    },
    {
      "cell_type": "code",
      "execution_count": 22,
      "metadata": {
        "id": "pLFpLP-c7rDR"
      },
      "outputs": [],
      "source": [
        "model.save('mymodel.h5')"
      ]
    },
    {
      "cell_type": "markdown",
      "metadata": {
        "id": "QArMiXJTDxDe"
      },
      "source": [
        "**Congratulations on completing this week's assignment!**"
      ]
    }
  ],
  "metadata": {
    "accelerator": "GPU",
    "colab": {
      "provenance": [],
      "gpuType": "T4"
    },
    "kernelspec": {
      "display_name": "Python 3",
      "name": "python3"
    },
    "language_info": {
      "codemirror_mode": {
        "name": "ipython",
        "version": 3
      },
      "file_extension": ".py",
      "mimetype": "text/x-python",
      "name": "python",
      "nbconvert_exporter": "python",
      "pygments_lexer": "ipython3",
      "version": "3.7.4"
    }
  },
  "nbformat": 4,
  "nbformat_minor": 0
}