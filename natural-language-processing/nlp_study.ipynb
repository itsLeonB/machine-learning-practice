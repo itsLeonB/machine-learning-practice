{
 "nbformat": 4,
 "nbformat_minor": 0,
 "metadata": {
  "colab": {
   "provenance": [],
   "collapsed_sections": [
    "YYX2jAmFRob_",
    "PsENz5nCRzQO"
   ],
   "authorship_tag": "ABX9TyOM/H3hTo4luIv0hLVYjl6j"
  },
  "kernelspec": {
   "name": "python3",
   "display_name": "Python 3"
  },
  "language_info": {
   "name": "python"
  }
 },
 "cells": [
  {
   "cell_type": "markdown",
   "source": [
    "# NLP Tokenization"
   ],
   "metadata": {
    "id": "sati4mnL9PMs"
   }
  },
  {
   "cell_type": "code",
   "source": [
    "from tensorflow.keras.preprocessing.text import Tokenizer"
   ],
   "metadata": {
    "id": "PVuhWP5u9SmJ"
   },
   "execution_count": null,
   "outputs": []
  },
  {
   "cell_type": "code",
   "source": [
    "tokenizer = Tokenizer(num_words= 15, oov_token='-')"
   ],
   "metadata": {
    "id": "vA_pTrJK9iqj"
   },
   "execution_count": null,
   "outputs": []
  },
  {
   "cell_type": "code",
   "source": [
    "teks = ['Saya suka programming',\n",
    "        'Programming sangat menyenangkan!',\n",
    "        'Machine Learning berbeda dengan pemrograman konvensional']"
   ],
   "metadata": {
    "id": "gQxgYNRD9mdB"
   },
   "execution_count": null,
   "outputs": []
  },
  {
   "cell_type": "code",
   "source": [
    "tokenizer.fit_on_texts(teks)"
   ],
   "metadata": {
    "id": "nNGPCvD89o6a"
   },
   "execution_count": null,
   "outputs": []
  },
  {
   "cell_type": "code",
   "source": [
    "sequences = tokenizer.texts_to_sequences(teks)"
   ],
   "metadata": {
    "id": "en9kQ-Fw9toF"
   },
   "execution_count": null,
   "outputs": []
  },
  {
   "cell_type": "code",
   "source": [
    "print(tokenizer.word_index)"
   ],
   "metadata": {
    "id": "BI6p4mwO-UaO"
   },
   "execution_count": null,
   "outputs": []
  },
  {
   "cell_type": "code",
   "source": [
    "from tensorflow.keras.preprocessing.sequence import pad_sequences"
   ],
   "metadata": {
    "id": "m3ijNuWF-mfK"
   },
   "execution_count": null,
   "outputs": []
  },
  {
   "cell_type": "code",
   "source": [
    "sequences_samapanjang = pad_sequences(sequences, \n",
    "                                      padding='post',\n",
    "                                      maxlen=5,\n",
    "                                      truncating='post')"
   ],
   "metadata": {
    "id": "G03-XmG9-qRd"
   },
   "execution_count": null,
   "outputs": []
  },
  {
   "cell_type": "markdown",
   "source": [
    "# Embedding"
   ],
   "metadata": {
    "id": "JCtMB4R2ApYo"
   }
  },
  {
   "cell_type": "code",
   "source": [
    "model = tf.keras.models.Sequential([\n",
    "    tf.keras.layers.Embedding(jumlah_kata, dimensi_embedding, panjang_input),\n",
    "    tf.keras.layers.Flatten(),\n",
    "    tf.keras.layers.Dense(24, activation='relu'),\n",
    "    tf.keras.layers.Dense(1, activation='sigmoid')\n",
    "])"
   ],
   "metadata": {
    "id": "vBwOoJJvAWxF"
   },
   "execution_count": null,
   "outputs": []
  },
  {
   "cell_type": "code",
   "source": [
    "model.compile(loss='categorical_crossentropy',\n",
    "              optimizer='adam',\n",
    "              metrics=['accuracy'])"
   ],
   "metadata": {
    "id": "z5n-agnsAee0"
   },
   "execution_count": null,
   "outputs": []
  },
  {
   "cell_type": "code",
   "source": [
    "model.fit(padded_latih, label_latih, \n",
    "          epochs=num_epochs, \n",
    "          validation_data=(padded_test, label_test))"
   ],
   "metadata": {
    "id": "nCNMKppSAg_W"
   },
   "execution_count": null,
   "outputs": []
  },
  {
   "cell_type": "markdown",
   "source": [
    "# Binary text classification"
   ],
   "metadata": {
    "id": "PJvMtynqBiQz"
   }
  },
  {
   "cell_type": "code",
   "source": [
    "import pandas as pd\n",
    "df = pd.read_csv('yelp_labelled.txt', names=['sentence', 'label'], sep='\\t')"
   ],
   "metadata": {
    "id": "FU1v52qpBlKr"
   },
   "execution_count": null,
   "outputs": []
  },
  {
   "cell_type": "code",
   "source": [
    "df.tail()"
   ],
   "metadata": {
    "id": "8Vnet4seBnjy"
   },
   "execution_count": null,
   "outputs": []
  },
  {
   "cell_type": "code",
   "source": [
    "from sklearn.model_selection import train_test_split\n",
    "kalimat = df['sentence'].values\n",
    "y = df['label'].values\n",
    "kalimat_latih, kalimat_test, y_latih, y_test = train_test_split(kalimat, y, test_size=0.2)"
   ],
   "metadata": {
    "id": "J2Q040P3BttU"
   },
   "execution_count": null,
   "outputs": []
  },
  {
   "cell_type": "code",
   "source": [
    "from tensorflow.keras.preprocessing.text import Tokenizer\n",
    "from tensorflow.keras.preprocessing.sequence import pad_sequences\n",
    " \n",
    "tokenizer = Tokenizer(num_words=250, oov_token='x')\n",
    "tokenizer.fit_on_texts(kalimat_latih) \n",
    "tokenizer.fit_on_texts(kalimat_test)\n",
    " \n",
    "sekuens_latih = tokenizer.texts_to_sequences(kalimat_latih)\n",
    "sekuens_test = tokenizer.texts_to_sequences(kalimat_test)\n",
    " \n",
    "padded_latih = pad_sequences(sekuens_latih) \n",
    "padded_test = pad_sequences(sekuens_test)"
   ],
   "metadata": {
    "id": "SRJB8pLQBzYn"
   },
   "execution_count": null,
   "outputs": []
  },
  {
   "cell_type": "code",
   "source": [
    "import tensorflow as tf\n",
    "model = tf.keras.Sequential([\n",
    "    tf.keras.layers.Embedding(250, 16, input_length=20),\n",
    "    tf.keras.layers.GlobalAveragePooling1D(),\n",
    "    tf.keras.layers.Dense(24, activation='relu'),\n",
    "    tf.keras.layers.Dense(1, activation='sigmoid')\n",
    "])\n",
    "model.compile(loss='binary_crossentropy',optimizer='adam',metrics=['accuracy'])"
   ],
   "metadata": {
    "id": "TOXOEz65B7oN"
   },
   "execution_count": null,
   "outputs": []
  },
  {
   "cell_type": "code",
   "source": [
    "num_epochs = 30\n",
    "history = model.fit(padded_latih, y_latih, epochs=num_epochs, \n",
    "                    validation_data=(padded_test, y_test), verbose=2)"
   ],
   "metadata": {
    "id": "X7loEJ9SB_Av"
   },
   "execution_count": null,
   "outputs": []
  },
  {
   "cell_type": "markdown",
   "source": [
    "# LSTM Layer"
   ],
   "metadata": {
    "id": "pDL5RguRCtlG"
   }
  },
  {
   "cell_type": "code",
   "source": [
    "model = tf.keras.Sequential([\n",
    "    tf.keras.layers.Embedding(input_dim=5000, output_dim=16),\n",
    "    tf.keras.layers.LSTM(64),\n",
    "    tf.keras.layers.Dense(128, activation='relu'),\n",
    "    tf.keras.layers.Dense(5, activation='softmax')\n",
    "])"
   ],
   "metadata": {
    "id": "011L853bCvf4"
   },
   "execution_count": null,
   "outputs": []
  },
  {
   "cell_type": "markdown",
   "source": [
    "# Multi-class text classification"
   ],
   "metadata": {
    "id": "ACvqiN0uKjqJ"
   }
  },
  {
   "cell_type": "code",
   "source": [
    "import pandas as pd\n",
    "df = pd.read_csv('imdb_indonesian.csv')\n",
    "df = df.drop(columns=['judul_film'])"
   ],
   "metadata": {
    "id": "0oSAaod9KmQx"
   },
   "execution_count": null,
   "outputs": []
  },
  {
   "cell_type": "code",
   "source": [
    "category = pd.get_dummies(df.genre)\n",
    "df_baru = pd.concat([df, category], axis=1)\n",
    "df_baru = df_baru.drop(columns='genre')\n",
    "df_baru"
   ],
   "metadata": {
    "id": "VHaYsZfrKqV-"
   },
   "execution_count": null,
   "outputs": []
  },
  {
   "cell_type": "code",
   "source": [
    "sinopsis = df_baru['ringkasan_sinopsis'].values\n",
    "label = df_baru[['Drama', 'Horor', 'Komedi', 'Laga', 'Romantis']].values"
   ],
   "metadata": {
    "id": "sBAP3ixcKuyO"
   },
   "execution_count": null,
   "outputs": []
  },
  {
   "cell_type": "code",
   "source": [
    "from sklearn.model_selection import train_test_split\n",
    "sinopsis_latih, sinopsis_test, label_latih, label_test = train_test_split(sinopsis, label, test_size=0.2)"
   ],
   "metadata": {
    "id": "Ko2ta5PYKyHW"
   },
   "execution_count": null,
   "outputs": []
  },
  {
   "cell_type": "code",
   "source": [
    "from tensorflow.keras.preprocessing.text import Tokenizer\n",
    "from tensorflow.keras.preprocessing.sequence import pad_sequences\n",
    " \n",
    "tokenizer = Tokenizer(num_words=5000, oov_token='x')\n",
    "tokenizer.fit_on_texts(sinopsis_latih) \n",
    "tokenizer.fit_on_texts(sinopsis_test)\n",
    " \n",
    "sekuens_latih = tokenizer.texts_to_sequences(sinopsis_latih)\n",
    "sekuens_test = tokenizer.texts_to_sequences(sinopsis_test)\n",
    " \n",
    "padded_latih = pad_sequences(sekuens_latih) \n",
    "padded_test = pad_sequences(sekuens_test)"
   ],
   "metadata": {
    "id": "Eb9rjiVnK466"
   },
   "execution_count": null,
   "outputs": []
  },
  {
   "cell_type": "code",
   "source": [
    "import tensorflow as tf\n",
    "model = tf.keras.Sequential([\n",
    "    tf.keras.layers.Embedding(input_dim=5000, output_dim=16),\n",
    "    tf.keras.layers.LSTM(64),\n",
    "    tf.keras.layers.Dense(128, activation='relu'),\n",
    "    tf.keras.layers.Dense(64, activation='relu'),\n",
    "    tf.keras.layers.Dense(5, activation='softmax')\n",
    "])\n",
    "model.compile(loss='categorical_crossentropy',optimizer='adam',metrics=['accuracy'])"
   ],
   "metadata": {
    "id": "C8ekEC4eLB3H"
   },
   "execution_count": null,
   "outputs": []
  },
  {
   "cell_type": "code",
   "source": [
    "num_epochs = 30\n",
    "history = model.fit(padded_latih, label_latih, epochs=num_epochs, \n",
    "                    validation_data=(padded_test, label_test), verbose=2)"
   ],
   "metadata": {
    "id": "XTwQIm29LGjS"
   },
   "execution_count": null,
   "outputs": []
  }
 ]
}